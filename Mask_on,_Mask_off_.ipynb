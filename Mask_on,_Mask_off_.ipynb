{
  "nbformat": 4,
  "nbformat_minor": 0,
  "metadata": {
    "colab": {
      "provenance": []
    },
    "kernelspec": {
      "name": "python3",
      "display_name": "Python 3"
    },
    "language_info": {
      "name": "python"
    }
  },
  "cells": [
    {
      "cell_type": "markdown",
      "source": [
        "Project is computer vision project to see if a person is wearing a mask or not with web cam."
      ],
      "metadata": {
        "id": "dCkRrRyG7_nu"
      }
    },
    {
      "cell_type": "markdown",
      "source": [
        "Let us first import all the necessay libraries and load the data, here i have already converted my images and its respective labels to arrays. And we load these arrays to a label."
      ],
      "metadata": {
        "id": "GtoiK6JI8T60"
      }
    },
    {
      "cell_type": "code",
      "source": [
        "import tensorflow as tf\n",
        "from sklearn.model_selection import train_test_split\n",
        "from sklearn.preprocessing import OneHotEncoder\n",
        "from sklearn.compose import ColumnTransformer\n",
        "from sklearn.metrics import accuracy_score\n",
        "import numpy as np\n",
        "\n",
        "X = image_array\n",
        "y = label_array"
      ],
      "metadata": {
        "id": "tjaJdIb_8mdZ"
      },
      "execution_count": null,
      "outputs": []
    },
    {
      "cell_type": "markdown",
      "source": [
        "Now we use one hot encoder to encode the labels to array of values. And we perform train test split."
      ],
      "metadata": {
        "id": "_T_kO2xm9JCN"
      }
    },
    {
      "cell_type": "code",
      "source": [
        "ct = ColumnTransformer([(\"OneHot\", OneHotEncoder(), [0])], remainder='passthrough')\n",
        "y = ct.fit_transform(y)\n",
        "\n",
        "X_train, X_test, y_train, y_test = train_test_split(X, y, test_size=0.2)"
      ],
      "metadata": {
        "id": "23FD5nS39UNr"
      },
      "execution_count": null,
      "outputs": []
    },
    {
      "cell_type": "markdown",
      "source": [
        "The shape of our image array is flattened to fit the model as a line of arrays. We create a Neural Network with multiple layers. We use softmax activation at the last layer to get a probalistic result."
      ],
      "metadata": {
        "id": "yPT74Pv99bJT"
      }
    },
    {
      "cell_type": "code",
      "source": [
        "model = tf.keras.models.Sequential([\n",
        "  tf.keras.layers.Flatten(input_shape=(224, 224, 3))\n",
        "  tf.keras.layers.Dense(64, activation='relu'),\n",
        "  tf.keras.layers.Dense(64, activation='relu'),\n",
        "  tf.keras.layers.Dense(2, activation='softmax')\n",
        "])\n",
        "\n",
        "model.compile(optimizer='SGD',\n",
        "              loss='categorical_crossentropy',\n",
        "              metrics=['accuracy'])"
      ],
      "metadata": {
        "id": "dRFnQTaa99gU"
      },
      "execution_count": null,
      "outputs": []
    },
    {
      "cell_type": "markdown",
      "source": [
        "Then we train the model and test it and then evaluate its accuracy.  Once done we save the model for future use."
      ],
      "metadata": {
        "id": "2JkAv8P2-Ap1"
      }
    },
    {
      "cell_type": "code",
      "source": [
        "\n",
        "model.fit(X_train, y_train, epochs=100)\n",
        "prob_arr=model.predict(X_test)\n",
        "predicted_label=np.argmax(prob_arr)\n",
        "\n",
        "print(accuracy_score(predicted_label.flatten(),y_test.flatten()))\n",
        "\n",
        "model.save(\"keras_Model.h5\")"
      ],
      "metadata": {
        "id": "jkJZMbvu5PGv"
      },
      "execution_count": null,
      "outputs": []
    },
    {
      "cell_type": "markdown",
      "source": [
        "After saving the model, we save our labels in a text file. Then we use opencv to help our model process real time data and make predictions."
      ],
      "metadata": {
        "id": "DZXkQzx2-UUa"
      }
    },
    {
      "cell_type": "code",
      "source": [
        "from keras.models import load_model\n",
        "import cv2  # Install opencv-python\n",
        "import numpy as np\n",
        "\n",
        "# Disable scientific notation for clarity\n",
        "np.set_printoptions(suppress=True)\n",
        "\n",
        "# Load the model\n",
        "model = load_model(\"keras_Model.h5\", compile=False)\n",
        "\n",
        "# Load the labels\n",
        "class_names = open(\"labels.txt\", \"r\").readlines()\n",
        "\n",
        "# CAMERA can be 0 or 1 based on default camera of your computer\n",
        "camera = cv2.VideoCapture(0)\n",
        "\n",
        "while True:\n",
        "    # Grab the webcamera's image.\n",
        "    ret, image = camera.read()\n",
        "    ret, frame = camera.read()\n",
        "\n",
        "    # Resize the raw image into (224-height,224-width) pixels\n",
        "    image = cv2.resize(image, (224, 224), interpolation=cv2.INTER_AREA)\n",
        "\n",
        "    # Show the image in a window\n",
        "    cv2.imshow(\"Webcam Image\", image)\n",
        "\n",
        "    # Make the image a numpy array and reshape it to the models input shape.\n",
        "    image = np.asarray(image, dtype=np.float32).reshape(1, 224, 224, 3)\n",
        "\n",
        "    # Normalize the image array\n",
        "    image = (image / 127.5) - 1\n",
        "\n",
        "    # Predicts the model\n",
        "    prediction = model.predict(image)\n",
        "    index = np.argmax(prediction)\n",
        "    class_name = class_names[index].strip()\n",
        "    confidence_score = prediction[0][index]\n",
        "\n",
        "    # Print prediction and confidence score\n",
        "    #print(\"Class:\", class_name[2:], end=\"\")\n",
        "    #print(\"Confidence Score:\", str(np.round(confidence_score * 100))[:-2], \"%\")\n",
        "    cv2.putText(frame, \"Class: {}\".format(class_name[2:]), (10, 30), cv2.FONT_HERSHEY_SIMPLEX, 1, (0, 0, 255), 2)\n",
        "    cv2.putText(frame, \"Confidence: {}\".format(str(np.round(confidence_score * 100))[:-2]), (10, 60), cv2.FONT_HERSHEY_SIMPLEX, 1, (0, 0, 255), 2)\n",
        "\n",
        "    # Show the frame\n",
        "    cv2.imshow(\"Classification Results\", frame)\n",
        "\n",
        "    # Listen to the keyboard for presses.\n",
        "    keyboard_input = cv2.waitKey(1)\n",
        "\n",
        "    # if q is pressed the window closes and prediction stops\n",
        "    if cv2.waitKey(100) & 0xFF == ord('q'):\n",
        "        cv2.destroyAllWindows()\n",
        "        break\n",
        "\n",
        "camera.release()\n"
      ],
      "metadata": {
        "id": "uAIJ29Yy3224"
      },
      "execution_count": null,
      "outputs": []
    },
    {
      "cell_type": "code",
      "source": [],
      "metadata": {
        "id": "Xfdl3PLx32zb"
      },
      "execution_count": null,
      "outputs": []
    },
    {
      "cell_type": "code",
      "source": [],
      "metadata": {
        "id": "y-8db07332pi"
      },
      "execution_count": null,
      "outputs": []
    }
  ]
}